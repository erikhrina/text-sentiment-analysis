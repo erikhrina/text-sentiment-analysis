{
 "cells": [
  {
   "cell_type": "code",
   "execution_count": 1,
   "metadata": {},
   "outputs": [
    {
     "name": "stderr",
     "output_type": "stream",
     "text": [
      "[nltk_data] Downloading package stopwords to\n",
      "[nltk_data]     C:\\Users\\Erik\\AppData\\Roaming\\nltk_data...\n",
      "[nltk_data]   Package stopwords is already up-to-date!\n",
      "[nltk_data] Downloading package punkt_tab to\n",
      "[nltk_data]     C:\\Users\\Erik\\AppData\\Roaming\\nltk_data...\n",
      "[nltk_data]   Unzipping tokenizers\\punkt_tab.zip.\n"
     ]
    }
   ],
   "source": [
    "from nltk.corpus import stopwords\n",
    "from nltk.stem.porter import PorterStemmer\n",
    "import re\n",
    "import dill\n",
    "import numpy as np\n",
    "import xgboost\n",
    "import nltk\n",
    "\n",
    "nltk.download(\"stopwords\")\n",
    "nltk.download(\"punkt_tab\")\n",
    "\n",
    "model_path = 'model_files/pipeline.pkl'\n",
    "with open(model_path, 'rb') as file:\n",
    "    pipeline = dill.load(file)"
   ]
  },
  {
   "cell_type": "code",
   "execution_count": 2,
   "metadata": {},
   "outputs": [
    {
     "name": "stdout",
     "output_type": "stream",
     "text": [
      "emoji 2.14.1\n",
      "dill 0.3.8\n",
      "nltk 3.9.1\n",
      "re 2.2.1\n",
      "pandas 2.2.2\n",
      "numpy 1.26.4\n",
      "Scikit-Learn 1.4.2\n",
      "XGBoost 2.1.1\n"
     ]
    }
   ],
   "source": [
    "import sklearn\n",
    "import emoji\n",
    "import pandas as pd\n",
    "\n",
    "print('emoji', emoji.__version__)\n",
    "print('dill', dill.__version__)\n",
    "print('nltk', nltk.__version__)\n",
    "print('re', re.__version__)\n",
    "print('pandas', pd.__version__)\n",
    "print('numpy', np.__version__)\n",
    "print('Scikit-Learn', sklearn.__version__)\n",
    "print('XGBoost', xgboost.__version__)"
   ]
  },
  {
   "cell_type": "code",
   "execution_count": null,
   "metadata": {},
   "outputs": [
    {
     "name": "stdout",
     "output_type": "stream",
     "text": [
      "[0.11940862 0.2700463  0.61054504]\n",
      "[[0.11940862 0.2700463  0.61054504]]\n"
     ]
    }
   ],
   "source": [
    "# Make prediction\n",
    "# 0 - NEGATIVE\n",
    "# 1 - NEUTRAL\n",
    "# 2 - POSITIVE\n",
    "\n",
    "prediction = pipeline.predict(['Hello ❤️💕😍😘'])\n",
    "prediction = pipeline.predict_proba(['Hello ❤️💕😍😘'])\n",
    "print(prediction[0])\n",
    "print(prediction)"
   ]
  }
 ],
 "metadata": {
  "kernelspec": {
   "display_name": "sentiment_analysis_env",
   "language": "python",
   "name": "python3"
  },
  "language_info": {
   "codemirror_mode": {
    "name": "ipython",
    "version": 3
   },
   "file_extension": ".py",
   "mimetype": "text/x-python",
   "name": "python",
   "nbconvert_exporter": "python",
   "pygments_lexer": "ipython3",
   "version": "3.12.3"
  }
 },
 "nbformat": 4,
 "nbformat_minor": 2
}
